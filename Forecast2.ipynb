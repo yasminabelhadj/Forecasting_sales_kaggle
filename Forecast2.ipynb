{
 "cells": [
  {
   "cell_type": "code",
   "execution_count": 1,
   "metadata": {},
   "outputs": [],
   "source": [
    "import pandas as pd \n",
    "import matplotlib.pyplot as plt\n",
    "from tensorflow.keras.models import Sequential\n",
    "from tensorflow.keras.layers import Dense\n",
    "from sklearn.model_selection import train_test_split\n",
    "\n",
    "train = pd.read_csv('E:/personal_projects/competitive-data-science-predict-future-sales/sales_train.csv')\n",
    "\n",
    "items = pd.read_csv('E:/personal_projects/competitive-data-science-predict-future-sales/items.csv')\n",
    "categories = pd.read_csv('E:/personal_projects/competitive-data-science-predict-future-sales/item_categories.csv')\n",
    "shops = pd.read_csv('E:/personal_projects/competitive-data-science-predict-future-sales/shops.csv')"
   ]
  },
  {
   "cell_type": "code",
   "execution_count": 2,
   "metadata": {},
   "outputs": [],
   "source": [
    "test = pd.read_csv('E:/personal_projects/competitive-data-science-predict-future-sales/test.csv')\n"
   ]
  },
  {
   "cell_type": "code",
   "execution_count": 3,
   "metadata": {},
   "outputs": [],
   "source": [
    "import datetime , nltk"
   ]
  },
  {
   "cell_type": "code",
   "execution_count": 4,
   "metadata": {},
   "outputs": [],
   "source": [
    "train['date'] = pd.to_datetime(train['date'], format = \"%d.%m.%Y\")"
   ]
  },
  {
   "cell_type": "code",
   "execution_count": 5,
   "metadata": {},
   "outputs": [],
   "source": [
    "train['year'] = train['date'].dt.year"
   ]
  },
  {
   "cell_type": "code",
   "execution_count": 6,
   "metadata": {},
   "outputs": [],
   "source": [
    "train['month'] = train['date'].dt.month"
   ]
  },
  {
   "cell_type": "code",
   "execution_count": 7,
   "metadata": {},
   "outputs": [],
   "source": [
    "train.drop(['date'], inplace = True , axis = 1)"
   ]
  },
  {
   "cell_type": "code",
   "execution_count": 8,
   "metadata": {},
   "outputs": [],
   "source": [
    "train = train.groupby([c for c in train.columns if c not in ['item_cnt_day'] ], as_index = False)['item_cnt_day'].sum()"
   ]
  },
  {
   "cell_type": "code",
   "execution_count": 10,
   "metadata": {},
   "outputs": [],
   "source": [
    "train = train.rename(columns = {'item_cnt_day' : 'item_cnt_month'})"
   ]
  },
  {
   "cell_type": "code",
   "execution_count": 11,
   "metadata": {},
   "outputs": [],
   "source": [
    "## mean of sales per product per shop\n",
    "train_mean_month = train [['shop_id','item_id','item_cnt_month']].groupby(['shop_id','item_id'], as_index=False)[['item_cnt_month']].mean()\n"
   ]
  },
  {
   "cell_type": "code",
   "execution_count": 12,
   "metadata": {},
   "outputs": [],
   "source": [
    "train_mean_month= train_mean_month.rename(columns = {'item_cnt_month' : 'item_mean_month'})"
   ]
  },
  {
   "cell_type": "code",
   "execution_count": 13,
   "metadata": {},
   "outputs": [],
   "source": [
    "train= pd.merge(train , train_mean_month , how = 'left' ,on = ['shop_id' ,'item_id'] )"
   ]
  },
  {
   "cell_type": "code",
   "execution_count": 14,
   "metadata": {},
   "outputs": [],
   "source": [
    "shop_prev_month = train [train['date_block_num'] == 33 ][['shop_id' ,'item_id' ,'date_block_num','item_cnt_month'] ]\n"
   ]
  },
  {
   "cell_type": "code",
   "execution_count": 18,
   "metadata": {},
   "outputs": [],
   "source": [
    "shop_prev_month = shop_prev_month.groupby(['item_id' , 'shop_id'] , as_index= False)['item_cnt_month'].sum()"
   ]
  },
  {
   "cell_type": "code",
   "execution_count": 19,
   "metadata": {},
   "outputs": [],
   "source": [
    "shop_prev_month = shop_prev_month.rename(columns = {'item_cnt_month' : 'item_cnt_prev_month'})\n"
   ]
  },
  {
   "cell_type": "code",
   "execution_count": 20,
   "metadata": {},
   "outputs": [
    {
     "data": {
      "text/html": [
       "<div>\n",
       "<style scoped>\n",
       "    .dataframe tbody tr th:only-of-type {\n",
       "        vertical-align: middle;\n",
       "    }\n",
       "\n",
       "    .dataframe tbody tr th {\n",
       "        vertical-align: top;\n",
       "    }\n",
       "\n",
       "    .dataframe thead th {\n",
       "        text-align: right;\n",
       "    }\n",
       "</style>\n",
       "<table border=\"1\" class=\"dataframe\">\n",
       "  <thead>\n",
       "    <tr style=\"text-align: right;\">\n",
       "      <th></th>\n",
       "      <th>item_id</th>\n",
       "      <th>shop_id</th>\n",
       "      <th>item_cnt_prev_month</th>\n",
       "    </tr>\n",
       "  </thead>\n",
       "  <tbody>\n",
       "    <tr>\n",
       "      <td>0</td>\n",
       "      <td>30</td>\n",
       "      <td>31</td>\n",
       "      <td>1.0</td>\n",
       "    </tr>\n",
       "    <tr>\n",
       "      <td>1</td>\n",
       "      <td>31</td>\n",
       "      <td>2</td>\n",
       "      <td>1.0</td>\n",
       "    </tr>\n",
       "    <tr>\n",
       "      <td>2</td>\n",
       "      <td>31</td>\n",
       "      <td>6</td>\n",
       "      <td>2.0</td>\n",
       "    </tr>\n",
       "    <tr>\n",
       "      <td>3</td>\n",
       "      <td>31</td>\n",
       "      <td>18</td>\n",
       "      <td>1.0</td>\n",
       "    </tr>\n",
       "    <tr>\n",
       "      <td>4</td>\n",
       "      <td>31</td>\n",
       "      <td>21</td>\n",
       "      <td>1.0</td>\n",
       "    </tr>\n",
       "    <tr>\n",
       "      <td>...</td>\n",
       "      <td>...</td>\n",
       "      <td>...</td>\n",
       "      <td>...</td>\n",
       "    </tr>\n",
       "    <tr>\n",
       "      <td>31526</td>\n",
       "      <td>22167</td>\n",
       "      <td>28</td>\n",
       "      <td>1.0</td>\n",
       "    </tr>\n",
       "    <tr>\n",
       "      <td>31527</td>\n",
       "      <td>22167</td>\n",
       "      <td>37</td>\n",
       "      <td>1.0</td>\n",
       "    </tr>\n",
       "    <tr>\n",
       "      <td>31528</td>\n",
       "      <td>22167</td>\n",
       "      <td>42</td>\n",
       "      <td>4.0</td>\n",
       "    </tr>\n",
       "    <tr>\n",
       "      <td>31529</td>\n",
       "      <td>22167</td>\n",
       "      <td>47</td>\n",
       "      <td>1.0</td>\n",
       "    </tr>\n",
       "    <tr>\n",
       "      <td>31530</td>\n",
       "      <td>22167</td>\n",
       "      <td>50</td>\n",
       "      <td>1.0</td>\n",
       "    </tr>\n",
       "  </tbody>\n",
       "</table>\n",
       "<p>31531 rows × 3 columns</p>\n",
       "</div>"
      ],
      "text/plain": [
       "       item_id  shop_id  item_cnt_prev_month\n",
       "0           30       31                  1.0\n",
       "1           31        2                  1.0\n",
       "2           31        6                  2.0\n",
       "3           31       18                  1.0\n",
       "4           31       21                  1.0\n",
       "...        ...      ...                  ...\n",
       "31526    22167       28                  1.0\n",
       "31527    22167       37                  1.0\n",
       "31528    22167       42                  4.0\n",
       "31529    22167       47                  1.0\n",
       "31530    22167       50                  1.0\n",
       "\n",
       "[31531 rows x 3 columns]"
      ]
     },
     "execution_count": 20,
     "metadata": {},
     "output_type": "execute_result"
    }
   ],
   "source": [
    "shop_prev_month"
   ]
  },
  {
   "cell_type": "code",
   "execution_count": 21,
   "metadata": {},
   "outputs": [
    {
     "data": {
      "text/plain": [
       "(1739022, 8)"
      ]
     },
     "execution_count": 21,
     "metadata": {},
     "output_type": "execute_result"
    }
   ],
   "source": [
    "train.shape"
   ]
  },
  {
   "cell_type": "code",
   "execution_count": 22,
   "metadata": {},
   "outputs": [
    {
     "data": {
      "text/plain": [
       "(1739022, 9)"
      ]
     },
     "execution_count": 22,
     "metadata": {},
     "output_type": "execute_result"
    }
   ],
   "source": [
    "train= pd.merge(train , shop_prev_month , how = 'left' ,on = ['shop_id' ,'item_id'] )\n",
    "train.shape"
   ]
  },
  {
   "cell_type": "code",
   "execution_count": 23,
   "metadata": {},
   "outputs": [
    {
     "data": {
      "text/plain": [
       "(1739022, 9)"
      ]
     },
     "execution_count": 23,
     "metadata": {},
     "output_type": "execute_result"
    }
   ],
   "source": [
    "train = train.fillna(0.)\n",
    "train.shape\n"
   ]
  },
  {
   "cell_type": "code",
   "execution_count": 24,
   "metadata": {},
   "outputs": [],
   "source": [
    "## Adding now all the features : \n",
    "train =  pd.merge (train ,  items , how  = 'left',on = ['item_id'])"
   ]
  },
  {
   "cell_type": "code",
   "execution_count": 25,
   "metadata": {},
   "outputs": [],
   "source": [
    "train =  pd.merge (train ,  categories , how  = 'left',on = ['item_category_id'])"
   ]
  },
  {
   "cell_type": "code",
   "execution_count": 26,
   "metadata": {},
   "outputs": [],
   "source": [
    "train =  pd.merge (train ,  shops , how  = 'left',on = ['shop_id'])"
   ]
  },
  {
   "cell_type": "code",
   "execution_count": 27,
   "metadata": {},
   "outputs": [],
   "source": [
    "test['month'] = 11 "
   ]
  },
  {
   "cell_type": "code",
   "execution_count": 28,
   "metadata": {},
   "outputs": [],
   "source": [
    "test = pd.merge (test ,  items , how  = 'left',on = ['item_id'])"
   ]
  },
  {
   "cell_type": "code",
   "execution_count": 29,
   "metadata": {},
   "outputs": [],
   "source": [
    "test =  pd.merge (test,  categories , how  = 'left',on = ['item_category_id'])"
   ]
  },
  {
   "cell_type": "code",
   "execution_count": 30,
   "metadata": {},
   "outputs": [],
   "source": [
    "test = pd.merge ( test,  shops , how  = 'left',on = ['shop_id'])"
   ]
  },
  {
   "cell_type": "code",
   "execution_count": 31,
   "metadata": {},
   "outputs": [],
   "source": [
    "test['year'] = 2015"
   ]
  },
  {
   "cell_type": "code",
   "execution_count": 32,
   "metadata": {},
   "outputs": [
    {
     "data": {
      "text/html": [
       "<div>\n",
       "<style scoped>\n",
       "    .dataframe tbody tr th:only-of-type {\n",
       "        vertical-align: middle;\n",
       "    }\n",
       "\n",
       "    .dataframe tbody tr th {\n",
       "        vertical-align: top;\n",
       "    }\n",
       "\n",
       "    .dataframe thead th {\n",
       "        text-align: right;\n",
       "    }\n",
       "</style>\n",
       "<table border=\"1\" class=\"dataframe\">\n",
       "  <thead>\n",
       "    <tr style=\"text-align: right;\">\n",
       "      <th></th>\n",
       "      <th>ID</th>\n",
       "      <th>shop_id</th>\n",
       "      <th>item_id</th>\n",
       "      <th>month</th>\n",
       "      <th>item_name</th>\n",
       "      <th>item_category_id</th>\n",
       "      <th>item_category_name</th>\n",
       "      <th>shop_name</th>\n",
       "      <th>year</th>\n",
       "      <th>date_block_num</th>\n",
       "    </tr>\n",
       "  </thead>\n",
       "  <tbody>\n",
       "    <tr>\n",
       "      <td>0</td>\n",
       "      <td>0</td>\n",
       "      <td>5</td>\n",
       "      <td>5037</td>\n",
       "      <td>11</td>\n",
       "      <td>NHL 15 [PS3, русские субтитры]</td>\n",
       "      <td>19</td>\n",
       "      <td>Игры - PS3</td>\n",
       "      <td>Вологда ТРЦ \"Мармелад\"</td>\n",
       "      <td>2015</td>\n",
       "      <td>34</td>\n",
       "    </tr>\n",
       "    <tr>\n",
       "      <td>1</td>\n",
       "      <td>1</td>\n",
       "      <td>5</td>\n",
       "      <td>5320</td>\n",
       "      <td>11</td>\n",
       "      <td>ONE DIRECTION  Made In The A.M.</td>\n",
       "      <td>55</td>\n",
       "      <td>Музыка - CD локального производства</td>\n",
       "      <td>Вологда ТРЦ \"Мармелад\"</td>\n",
       "      <td>2015</td>\n",
       "      <td>34</td>\n",
       "    </tr>\n",
       "    <tr>\n",
       "      <td>2</td>\n",
       "      <td>2</td>\n",
       "      <td>5</td>\n",
       "      <td>5233</td>\n",
       "      <td>11</td>\n",
       "      <td>Need for Speed Rivals (Essentials) [PS3, русск...</td>\n",
       "      <td>19</td>\n",
       "      <td>Игры - PS3</td>\n",
       "      <td>Вологда ТРЦ \"Мармелад\"</td>\n",
       "      <td>2015</td>\n",
       "      <td>34</td>\n",
       "    </tr>\n",
       "    <tr>\n",
       "      <td>3</td>\n",
       "      <td>3</td>\n",
       "      <td>5</td>\n",
       "      <td>5232</td>\n",
       "      <td>11</td>\n",
       "      <td>Need for Speed Rivals (Classics) [Xbox 360, ру...</td>\n",
       "      <td>23</td>\n",
       "      <td>Игры - XBOX 360</td>\n",
       "      <td>Вологда ТРЦ \"Мармелад\"</td>\n",
       "      <td>2015</td>\n",
       "      <td>34</td>\n",
       "    </tr>\n",
       "    <tr>\n",
       "      <td>4</td>\n",
       "      <td>4</td>\n",
       "      <td>5</td>\n",
       "      <td>5268</td>\n",
       "      <td>11</td>\n",
       "      <td>Need for Speed [PS4, русская версия]</td>\n",
       "      <td>20</td>\n",
       "      <td>Игры - PS4</td>\n",
       "      <td>Вологда ТРЦ \"Мармелад\"</td>\n",
       "      <td>2015</td>\n",
       "      <td>34</td>\n",
       "    </tr>\n",
       "    <tr>\n",
       "      <td>...</td>\n",
       "      <td>...</td>\n",
       "      <td>...</td>\n",
       "      <td>...</td>\n",
       "      <td>...</td>\n",
       "      <td>...</td>\n",
       "      <td>...</td>\n",
       "      <td>...</td>\n",
       "      <td>...</td>\n",
       "      <td>...</td>\n",
       "      <td>...</td>\n",
       "    </tr>\n",
       "    <tr>\n",
       "      <td>214195</td>\n",
       "      <td>214195</td>\n",
       "      <td>45</td>\n",
       "      <td>18454</td>\n",
       "      <td>11</td>\n",
       "      <td>СБ. Союз 55</td>\n",
       "      <td>55</td>\n",
       "      <td>Музыка - CD локального производства</td>\n",
       "      <td>Самара ТЦ \"ПаркХаус\"</td>\n",
       "      <td>2015</td>\n",
       "      <td>34</td>\n",
       "    </tr>\n",
       "    <tr>\n",
       "      <td>214196</td>\n",
       "      <td>214196</td>\n",
       "      <td>45</td>\n",
       "      <td>16188</td>\n",
       "      <td>11</td>\n",
       "      <td>Настольная игра Нано Кёрлинг</td>\n",
       "      <td>64</td>\n",
       "      <td>Подарки - Настольные игры</td>\n",
       "      <td>Самара ТЦ \"ПаркХаус\"</td>\n",
       "      <td>2015</td>\n",
       "      <td>34</td>\n",
       "    </tr>\n",
       "    <tr>\n",
       "      <td>214197</td>\n",
       "      <td>214197</td>\n",
       "      <td>45</td>\n",
       "      <td>15757</td>\n",
       "      <td>11</td>\n",
       "      <td>НОВИКОВ АЛЕКСАНДР  Новая коллекция</td>\n",
       "      <td>55</td>\n",
       "      <td>Музыка - CD локального производства</td>\n",
       "      <td>Самара ТЦ \"ПаркХаус\"</td>\n",
       "      <td>2015</td>\n",
       "      <td>34</td>\n",
       "    </tr>\n",
       "    <tr>\n",
       "      <td>214198</td>\n",
       "      <td>214198</td>\n",
       "      <td>45</td>\n",
       "      <td>19648</td>\n",
       "      <td>11</td>\n",
       "      <td>ТЕРЕМ - ТЕРЕМОК сб.м/ф (Регион)</td>\n",
       "      <td>40</td>\n",
       "      <td>Кино - DVD</td>\n",
       "      <td>Самара ТЦ \"ПаркХаус\"</td>\n",
       "      <td>2015</td>\n",
       "      <td>34</td>\n",
       "    </tr>\n",
       "    <tr>\n",
       "      <td>214199</td>\n",
       "      <td>214199</td>\n",
       "      <td>45</td>\n",
       "      <td>969</td>\n",
       "      <td>11</td>\n",
       "      <td>3 ДНЯ НА УБИЙСТВО (BD)</td>\n",
       "      <td>37</td>\n",
       "      <td>Кино - Blu-Ray</td>\n",
       "      <td>Самара ТЦ \"ПаркХаус\"</td>\n",
       "      <td>2015</td>\n",
       "      <td>34</td>\n",
       "    </tr>\n",
       "  </tbody>\n",
       "</table>\n",
       "<p>214200 rows × 10 columns</p>\n",
       "</div>"
      ],
      "text/plain": [
       "            ID  shop_id  item_id  month  \\\n",
       "0            0        5     5037     11   \n",
       "1            1        5     5320     11   \n",
       "2            2        5     5233     11   \n",
       "3            3        5     5232     11   \n",
       "4            4        5     5268     11   \n",
       "...        ...      ...      ...    ...   \n",
       "214195  214195       45    18454     11   \n",
       "214196  214196       45    16188     11   \n",
       "214197  214197       45    15757     11   \n",
       "214198  214198       45    19648     11   \n",
       "214199  214199       45      969     11   \n",
       "\n",
       "                                                item_name  item_category_id  \\\n",
       "0                          NHL 15 [PS3, русские субтитры]                19   \n",
       "1                         ONE DIRECTION  Made In The A.M.                55   \n",
       "2       Need for Speed Rivals (Essentials) [PS3, русск...                19   \n",
       "3       Need for Speed Rivals (Classics) [Xbox 360, ру...                23   \n",
       "4                    Need for Speed [PS4, русская версия]                20   \n",
       "...                                                   ...               ...   \n",
       "214195                                        СБ. Союз 55                55   \n",
       "214196                       Настольная игра Нано Кёрлинг                64   \n",
       "214197                 НОВИКОВ АЛЕКСАНДР  Новая коллекция                55   \n",
       "214198                    ТЕРЕМ - ТЕРЕМОК сб.м/ф (Регион)                40   \n",
       "214199                             3 ДНЯ НА УБИЙСТВО (BD)                37   \n",
       "\n",
       "                         item_category_name               shop_name  year  \\\n",
       "0                                Игры - PS3  Вологда ТРЦ \"Мармелад\"  2015   \n",
       "1       Музыка - CD локального производства  Вологда ТРЦ \"Мармелад\"  2015   \n",
       "2                                Игры - PS3  Вологда ТРЦ \"Мармелад\"  2015   \n",
       "3                           Игры - XBOX 360  Вологда ТРЦ \"Мармелад\"  2015   \n",
       "4                                Игры - PS4  Вологда ТРЦ \"Мармелад\"  2015   \n",
       "...                                     ...                     ...   ...   \n",
       "214195  Музыка - CD локального производства    Самара ТЦ \"ПаркХаус\"  2015   \n",
       "214196            Подарки - Настольные игры    Самара ТЦ \"ПаркХаус\"  2015   \n",
       "214197  Музыка - CD локального производства    Самара ТЦ \"ПаркХаус\"  2015   \n",
       "214198                           Кино - DVD    Самара ТЦ \"ПаркХаус\"  2015   \n",
       "214199                       Кино - Blu-Ray    Самара ТЦ \"ПаркХаус\"  2015   \n",
       "\n",
       "        date_block_num  \n",
       "0                   34  \n",
       "1                   34  \n",
       "2                   34  \n",
       "3                   34  \n",
       "4                   34  \n",
       "...                ...  \n",
       "214195              34  \n",
       "214196              34  \n",
       "214197              34  \n",
       "214198              34  \n",
       "214199              34  \n",
       "\n",
       "[214200 rows x 10 columns]"
      ]
     },
     "execution_count": 32,
     "metadata": {},
     "output_type": "execute_result"
    }
   ],
   "source": [
    "test ['date_block_num'] = 34\n",
    "test.shape\n",
    "test"
   ]
  },
  {
   "cell_type": "code",
   "execution_count": 33,
   "metadata": {},
   "outputs": [
    {
     "data": {
      "text/html": [
       "<div>\n",
       "<style scoped>\n",
       "    .dataframe tbody tr th:only-of-type {\n",
       "        vertical-align: middle;\n",
       "    }\n",
       "\n",
       "    .dataframe tbody tr th {\n",
       "        vertical-align: top;\n",
       "    }\n",
       "\n",
       "    .dataframe thead th {\n",
       "        text-align: right;\n",
       "    }\n",
       "</style>\n",
       "<table border=\"1\" class=\"dataframe\">\n",
       "  <thead>\n",
       "    <tr style=\"text-align: right;\">\n",
       "      <th></th>\n",
       "      <th>ID</th>\n",
       "      <th>shop_id</th>\n",
       "      <th>item_id</th>\n",
       "      <th>month</th>\n",
       "      <th>item_name</th>\n",
       "      <th>item_category_id</th>\n",
       "      <th>item_category_name</th>\n",
       "      <th>shop_name</th>\n",
       "      <th>year</th>\n",
       "      <th>date_block_num</th>\n",
       "      <th>item_cnt_prev_month</th>\n",
       "    </tr>\n",
       "  </thead>\n",
       "  <tbody>\n",
       "    <tr>\n",
       "      <td>0</td>\n",
       "      <td>0</td>\n",
       "      <td>5</td>\n",
       "      <td>5037</td>\n",
       "      <td>11</td>\n",
       "      <td>NHL 15 [PS3, русские субтитры]</td>\n",
       "      <td>19</td>\n",
       "      <td>Игры - PS3</td>\n",
       "      <td>Вологда ТРЦ \"Мармелад\"</td>\n",
       "      <td>2015</td>\n",
       "      <td>34</td>\n",
       "      <td>0.0</td>\n",
       "    </tr>\n",
       "    <tr>\n",
       "      <td>1</td>\n",
       "      <td>1</td>\n",
       "      <td>5</td>\n",
       "      <td>5320</td>\n",
       "      <td>11</td>\n",
       "      <td>ONE DIRECTION  Made In The A.M.</td>\n",
       "      <td>55</td>\n",
       "      <td>Музыка - CD локального производства</td>\n",
       "      <td>Вологда ТРЦ \"Мармелад\"</td>\n",
       "      <td>2015</td>\n",
       "      <td>34</td>\n",
       "      <td>0.0</td>\n",
       "    </tr>\n",
       "    <tr>\n",
       "      <td>2</td>\n",
       "      <td>2</td>\n",
       "      <td>5</td>\n",
       "      <td>5233</td>\n",
       "      <td>11</td>\n",
       "      <td>Need for Speed Rivals (Essentials) [PS3, русск...</td>\n",
       "      <td>19</td>\n",
       "      <td>Игры - PS3</td>\n",
       "      <td>Вологда ТРЦ \"Мармелад\"</td>\n",
       "      <td>2015</td>\n",
       "      <td>34</td>\n",
       "      <td>1.0</td>\n",
       "    </tr>\n",
       "    <tr>\n",
       "      <td>3</td>\n",
       "      <td>3</td>\n",
       "      <td>5</td>\n",
       "      <td>5232</td>\n",
       "      <td>11</td>\n",
       "      <td>Need for Speed Rivals (Classics) [Xbox 360, ру...</td>\n",
       "      <td>23</td>\n",
       "      <td>Игры - XBOX 360</td>\n",
       "      <td>Вологда ТРЦ \"Мармелад\"</td>\n",
       "      <td>2015</td>\n",
       "      <td>34</td>\n",
       "      <td>0.0</td>\n",
       "    </tr>\n",
       "    <tr>\n",
       "      <td>4</td>\n",
       "      <td>4</td>\n",
       "      <td>5</td>\n",
       "      <td>5268</td>\n",
       "      <td>11</td>\n",
       "      <td>Need for Speed [PS4, русская версия]</td>\n",
       "      <td>20</td>\n",
       "      <td>Игры - PS4</td>\n",
       "      <td>Вологда ТРЦ \"Мармелад\"</td>\n",
       "      <td>2015</td>\n",
       "      <td>34</td>\n",
       "      <td>0.0</td>\n",
       "    </tr>\n",
       "    <tr>\n",
       "      <td>...</td>\n",
       "      <td>...</td>\n",
       "      <td>...</td>\n",
       "      <td>...</td>\n",
       "      <td>...</td>\n",
       "      <td>...</td>\n",
       "      <td>...</td>\n",
       "      <td>...</td>\n",
       "      <td>...</td>\n",
       "      <td>...</td>\n",
       "      <td>...</td>\n",
       "      <td>...</td>\n",
       "    </tr>\n",
       "    <tr>\n",
       "      <td>214195</td>\n",
       "      <td>214195</td>\n",
       "      <td>45</td>\n",
       "      <td>18454</td>\n",
       "      <td>11</td>\n",
       "      <td>СБ. Союз 55</td>\n",
       "      <td>55</td>\n",
       "      <td>Музыка - CD локального производства</td>\n",
       "      <td>Самара ТЦ \"ПаркХаус\"</td>\n",
       "      <td>2015</td>\n",
       "      <td>34</td>\n",
       "      <td>1.0</td>\n",
       "    </tr>\n",
       "    <tr>\n",
       "      <td>214196</td>\n",
       "      <td>214196</td>\n",
       "      <td>45</td>\n",
       "      <td>16188</td>\n",
       "      <td>11</td>\n",
       "      <td>Настольная игра Нано Кёрлинг</td>\n",
       "      <td>64</td>\n",
       "      <td>Подарки - Настольные игры</td>\n",
       "      <td>Самара ТЦ \"ПаркХаус\"</td>\n",
       "      <td>2015</td>\n",
       "      <td>34</td>\n",
       "      <td>0.0</td>\n",
       "    </tr>\n",
       "    <tr>\n",
       "      <td>214197</td>\n",
       "      <td>214197</td>\n",
       "      <td>45</td>\n",
       "      <td>15757</td>\n",
       "      <td>11</td>\n",
       "      <td>НОВИКОВ АЛЕКСАНДР  Новая коллекция</td>\n",
       "      <td>55</td>\n",
       "      <td>Музыка - CD локального производства</td>\n",
       "      <td>Самара ТЦ \"ПаркХаус\"</td>\n",
       "      <td>2015</td>\n",
       "      <td>34</td>\n",
       "      <td>0.0</td>\n",
       "    </tr>\n",
       "    <tr>\n",
       "      <td>214198</td>\n",
       "      <td>214198</td>\n",
       "      <td>45</td>\n",
       "      <td>19648</td>\n",
       "      <td>11</td>\n",
       "      <td>ТЕРЕМ - ТЕРЕМОК сб.м/ф (Регион)</td>\n",
       "      <td>40</td>\n",
       "      <td>Кино - DVD</td>\n",
       "      <td>Самара ТЦ \"ПаркХаус\"</td>\n",
       "      <td>2015</td>\n",
       "      <td>34</td>\n",
       "      <td>0.0</td>\n",
       "    </tr>\n",
       "    <tr>\n",
       "      <td>214199</td>\n",
       "      <td>214199</td>\n",
       "      <td>45</td>\n",
       "      <td>969</td>\n",
       "      <td>11</td>\n",
       "      <td>3 ДНЯ НА УБИЙСТВО (BD)</td>\n",
       "      <td>37</td>\n",
       "      <td>Кино - Blu-Ray</td>\n",
       "      <td>Самара ТЦ \"ПаркХаус\"</td>\n",
       "      <td>2015</td>\n",
       "      <td>34</td>\n",
       "      <td>0.0</td>\n",
       "    </tr>\n",
       "  </tbody>\n",
       "</table>\n",
       "<p>214200 rows × 11 columns</p>\n",
       "</div>"
      ],
      "text/plain": [
       "            ID  shop_id  item_id  month  \\\n",
       "0            0        5     5037     11   \n",
       "1            1        5     5320     11   \n",
       "2            2        5     5233     11   \n",
       "3            3        5     5232     11   \n",
       "4            4        5     5268     11   \n",
       "...        ...      ...      ...    ...   \n",
       "214195  214195       45    18454     11   \n",
       "214196  214196       45    16188     11   \n",
       "214197  214197       45    15757     11   \n",
       "214198  214198       45    19648     11   \n",
       "214199  214199       45      969     11   \n",
       "\n",
       "                                                item_name  item_category_id  \\\n",
       "0                          NHL 15 [PS3, русские субтитры]                19   \n",
       "1                         ONE DIRECTION  Made In The A.M.                55   \n",
       "2       Need for Speed Rivals (Essentials) [PS3, русск...                19   \n",
       "3       Need for Speed Rivals (Classics) [Xbox 360, ру...                23   \n",
       "4                    Need for Speed [PS4, русская версия]                20   \n",
       "...                                                   ...               ...   \n",
       "214195                                        СБ. Союз 55                55   \n",
       "214196                       Настольная игра Нано Кёрлинг                64   \n",
       "214197                 НОВИКОВ АЛЕКСАНДР  Новая коллекция                55   \n",
       "214198                    ТЕРЕМ - ТЕРЕМОК сб.м/ф (Регион)                40   \n",
       "214199                             3 ДНЯ НА УБИЙСТВО (BD)                37   \n",
       "\n",
       "                         item_category_name               shop_name  year  \\\n",
       "0                                Игры - PS3  Вологда ТРЦ \"Мармелад\"  2015   \n",
       "1       Музыка - CD локального производства  Вологда ТРЦ \"Мармелад\"  2015   \n",
       "2                                Игры - PS3  Вологда ТРЦ \"Мармелад\"  2015   \n",
       "3                           Игры - XBOX 360  Вологда ТРЦ \"Мармелад\"  2015   \n",
       "4                                Игры - PS4  Вологда ТРЦ \"Мармелад\"  2015   \n",
       "...                                     ...                     ...   ...   \n",
       "214195  Музыка - CD локального производства    Самара ТЦ \"ПаркХаус\"  2015   \n",
       "214196            Подарки - Настольные игры    Самара ТЦ \"ПаркХаус\"  2015   \n",
       "214197  Музыка - CD локального производства    Самара ТЦ \"ПаркХаус\"  2015   \n",
       "214198                           Кино - DVD    Самара ТЦ \"ПаркХаус\"  2015   \n",
       "214199                       Кино - Blu-Ray    Самара ТЦ \"ПаркХаус\"  2015   \n",
       "\n",
       "        date_block_num  item_cnt_prev_month  \n",
       "0                   34                  0.0  \n",
       "1                   34                  0.0  \n",
       "2                   34                  1.0  \n",
       "3                   34                  0.0  \n",
       "4                   34                  0.0  \n",
       "...                ...                  ...  \n",
       "214195              34                  1.0  \n",
       "214196              34                  0.0  \n",
       "214197              34                  0.0  \n",
       "214198              34                  0.0  \n",
       "214199              34                  0.0  \n",
       "\n",
       "[214200 rows x 11 columns]"
      ]
     },
     "execution_count": 33,
     "metadata": {},
     "output_type": "execute_result"
    }
   ],
   "source": [
    "test= pd.merge(test, shop_prev_month, how = 'left' ,on = ['item_id' , 'shop_id'] ).fillna(0.)\n",
    "test\n",
    "\n"
   ]
  },
  {
   "cell_type": "code",
   "execution_count": 34,
   "metadata": {},
   "outputs": [],
   "source": [
    "test= pd.merge(test , train_mean_month , how = 'left' ,on = ['item_id' , 'shop_id'] )"
   ]
  },
  {
   "cell_type": "code",
   "execution_count": 35,
   "metadata": {},
   "outputs": [],
   "source": [
    "test = test.fillna(0.)"
   ]
  },
  {
   "cell_type": "code",
   "execution_count": 245,
   "metadata": {},
   "outputs": [],
   "source": [
    "test['item_cnt_month'] = 0."
   ]
  },
  {
   "cell_type": "code",
   "execution_count": 36,
   "metadata": {},
   "outputs": [
    {
     "name": "stdout",
     "output_type": "stream",
     "text": [
      "item_name\n",
      "item_category_name\n",
      "shop_name\n"
     ]
    }
   ],
   "source": [
    "from sklearn import preprocessing\n",
    "for c in ['item_name' , 'item_category_name' , 'shop_name'] :\n",
    "    e = preprocessing.LabelEncoder()\n",
    "    e.fit(list(train[c].unique()) + list(test[c].unique()))\n",
    "    train[c] = e.transform(train[c].astype(str))\n",
    "    test[c] = e.transform(test[c].astype(str))\n",
    "    print(c)"
   ]
  },
  {
   "cell_type": "code",
   "execution_count": 37,
   "metadata": {},
   "outputs": [
    {
     "data": {
      "text/plain": [
       "0          6.0\n",
       "1          3.0\n",
       "2          1.0\n",
       "3          1.0\n",
       "4          1.0\n",
       "          ... \n",
       "1739017    6.0\n",
       "1739018    2.0\n",
       "1739019    1.0\n",
       "1739020    1.0\n",
       "1739021    1.0\n",
       "Name: item_cnt_month, Length: 1739022, dtype: float64"
      ]
     },
     "execution_count": 37,
     "metadata": {},
     "output_type": "execute_result"
    }
   ],
   "source": [
    "train ['item_cnt_month']"
   ]
  },
  {
   "cell_type": "code",
   "execution_count": 78,
   "metadata": {},
   "outputs": [],
   "source": [
    "from sklearn.model_selection import train_test_split\n",
    "import numpy as np\n",
    "X_train = train [train['date_block_num']<33]\n",
    "y_train = train [train['date_block_num']<33] ['item_cnt_month']\n",
    "X_test = train [train['date_block_num']==33]\n",
    "y_test = X_test['item_cnt_month'].clip(0. , 20.)\n"
   ]
  },
  {
   "cell_type": "code",
   "execution_count": 71,
   "metadata": {},
   "outputs": [
    {
     "data": {
      "text/plain": [
       "(1705824, 12)"
      ]
     },
     "execution_count": 71,
     "metadata": {},
     "output_type": "execute_result"
    }
   ],
   "source": [
    "X_train.shape"
   ]
  },
  {
   "cell_type": "code",
   "execution_count": 72,
   "metadata": {},
   "outputs": [
    {
     "data": {
      "text/plain": [
       "(1705824,)"
      ]
     },
     "execution_count": 72,
     "metadata": {},
     "output_type": "execute_result"
    }
   ],
   "source": [
    "y_train.shape"
   ]
  },
  {
   "cell_type": "code",
   "execution_count": 79,
   "metadata": {},
   "outputs": [],
   "source": [
    "X_train = X_train.drop(['item_cnt_month'], axis = 1)\n",
    "X_test = X_test.drop(['item_cnt_month'], axis = 1)\n"
   ]
  },
  {
   "cell_type": "code",
   "execution_count": 99,
   "metadata": {},
   "outputs": [],
   "source": [
    "##Deep learning part : \n",
    "from tensorflow.keras.models import Sequential \n",
    "from tensorflow.keras.layers import Dense, Dropout\n",
    "from tensorflow.keras import regularizers"
   ]
  },
  {
   "cell_type": "code",
   "execution_count": 101,
   "metadata": {},
   "outputs": [
    {
     "name": "stdout",
     "output_type": "stream",
     "text": [
      "Model: \"sequential_14\"\n",
      "_________________________________________________________________\n",
      "Layer (type)                 Output Shape              Param #   \n",
      "=================================================================\n",
      "dense_60 (Dense)             (None, 56)                672       \n",
      "_________________________________________________________________\n",
      "dense_61 (Dense)             (None, 128)               7296      \n",
      "_________________________________________________________________\n",
      "dropout_25 (Dropout)         (None, 128)               0         \n",
      "_________________________________________________________________\n",
      "dense_62 (Dense)             (None, 128)               16512     \n",
      "_________________________________________________________________\n",
      "dropout_26 (Dropout)         (None, 128)               0         \n",
      "_________________________________________________________________\n",
      "dense_63 (Dense)             (None, 128)               16512     \n",
      "_________________________________________________________________\n",
      "dense_64 (Dense)             (None, 1)                 129       \n",
      "=================================================================\n",
      "Total params: 41,121\n",
      "Trainable params: 41,121\n",
      "Non-trainable params: 0\n",
      "_________________________________________________________________\n"
     ]
    }
   ],
   "source": [
    "##Starting with the model \n",
    "\n",
    "model = Sequential()\n",
    "##input layer\n",
    "model.add(Dense(56, activation='relu', input_shape= (X_train.shape[1],)))\n",
    "##hidden layer\n",
    "model.add(Dense(128, activation='relu',kernel_initializer='normal'))\n",
    "model.add(Dropout(0.5))\n",
    "model.add(Dense(128, activation='relu',kernel_initializer='normal'))\n",
    "model.add(Dropout(0.2))\n",
    "model.add(Dense(128, activation='relu',kernel_initializer='normal'))\n",
    "##Output layer \n",
    "model.add( Dense (1, activation='linear',kernel_initializer='normal'))\n",
    "\n",
    "model.compile(loss='MAE', optimizer ='adam' , metrics = ['mean_absolute_error'])\n",
    "model.summary()"
   ]
  },
  {
   "cell_type": "code",
   "execution_count": 82,
   "metadata": {},
   "outputs": [
    {
     "data": {
      "text/plain": [
       "(1705824, 11)"
      ]
     },
     "execution_count": 82,
     "metadata": {},
     "output_type": "execute_result"
    }
   ],
   "source": [
    "X_train.shape"
   ]
  },
  {
   "cell_type": "code",
   "execution_count": 83,
   "metadata": {},
   "outputs": [
    {
     "name": "stdout",
     "output_type": "stream",
     "text": [
      "Train on 1705824 samples, validate on 33198 samples\n",
      "Epoch 1/10\n",
      "1705824/1705824 [==============================] - 70s 41us/sample - loss: 1.1457 - mean_absolute_error: 1.1457 - val_loss: 0.9029 - val_mean_absolute_error: 0.9029\n",
      "Epoch 2/10\n",
      "1705824/1705824 [==============================] - 67s 39us/sample - loss: 1.1044 - mean_absolute_error: 1.1043 - val_loss: 0.9006 - val_mean_absolute_error: 0.9006\n",
      "Epoch 3/10\n",
      "1705824/1705824 [==============================] - 67s 39us/sample - loss: 1.1041 - mean_absolute_error: 1.1040 - val_loss: 0.8993 - val_mean_absolute_error: 0.8993\n",
      "Epoch 4/10\n",
      "1705824/1705824 [==============================] - 67s 39us/sample - loss: 1.1039 - mean_absolute_error: 1.1038 - val_loss: 0.8998 - val_mean_absolute_error: 0.8998\n",
      "Epoch 5/10\n",
      "1705824/1705824 [==============================] - 81s 48us/sample - loss: 1.1039 - mean_absolute_error: 1.1037 - val_loss: 0.9012 - val_mean_absolute_error: 0.9012\n",
      "Epoch 6/10\n",
      "1705824/1705824 [==============================] - 83s 49us/sample - loss: 1.1038 - mean_absolute_error: 1.1037 - val_loss: 0.8995 - val_mean_absolute_error: 0.8995\n",
      "Epoch 7/10\n",
      "1705824/1705824 [==============================] - 73s 43us/sample - loss: 1.1037 - mean_absolute_error: 1.1036 - val_loss: 0.9008 - val_mean_absolute_error: 0.9008\n",
      "Epoch 8/10\n",
      "1705824/1705824 [==============================] - 79s 46us/sample - loss: 1.1036 - mean_absolute_error: 1.1035 - val_loss: 0.8996 - val_mean_absolute_error: 0.8996\n",
      "Epoch 9/10\n",
      "1705824/1705824 [==============================] - 77s 45us/sample - loss: 1.1036 - mean_absolute_error: 1.1034 - val_loss: 0.9000 - val_mean_absolute_error: 0.9000\n",
      "Epoch 10/10\n",
      "1705824/1705824 [==============================] - 78s 46us/sample - loss: 1.1036 - mean_absolute_error: 1.1034 - val_loss: 0.8996 - val_mean_absolute_error: 0.8996\n"
     ]
    }
   ],
   "source": [
    "history = model.fit(X_train , y_train , batch_size = 56 , epochs = 10 , \n",
    "                validation_data =(X_test,y_test) )"
   ]
  },
  {
   "cell_type": "code",
   "execution_count": 84,
   "metadata": {},
   "outputs": [
    {
     "name": "stdout",
     "output_type": "stream",
     "text": [
      "33198/33198 [==============================] - 1s 18us/sample - loss: 0.8996 - mean_absolute_error: 0.8996\n"
     ]
    },
    {
     "data": {
      "text/plain": [
       "[0.8996321838033782, 0.8996327]"
      ]
     },
     "execution_count": 84,
     "metadata": {},
     "output_type": "execute_result"
    }
   ],
   "source": [
    "model.evaluate(X_test,y_test)"
   ]
  },
  {
   "cell_type": "code",
   "execution_count": 85,
   "metadata": {},
   "outputs": [
    {
     "data": {
      "image/png": "[encoded data removed]",
      "text/plain": [
       "<Figure size 432x288 with 1 Axes>"
      ]
     },
     "metadata": {
      "needs_background": "light"
     },
     "output_type": "display_data"
    }
   ],
   "source": [
    "loss = history.history['loss']\n",
    "val_loss = history.history['val_loss']\n",
    "epochs = range(1, len(loss) + 1)\n",
    "plt.plot(epochs, loss, 'y', label='Training loss')\n",
    "plt.plot(epochs, val_loss, 'r', label='Validation loss')\n",
    "plt.title('Training and validation loss')\n",
    "plt.xlabel('Epochs')\n",
    "plt.ylabel('Loss')\n",
    "plt.legend()\n",
    "plt.show()"
   ]
  },
  {
   "cell_type": "code",
   "execution_count": 88,
   "metadata": {},
   "outputs": [
    {
     "data": {
      "image/png": "[encoded data removed]",
      "text/plain": [
       "<Figure size 432x288 with 1 Axes>"
      ]
     },
     "metadata": {
      "needs_background": "light"
     },
     "output_type": "display_data"
    }
   ],
   "source": [
    "acc = history.history['mean_absolute_error']\n",
    "val_acc = history.history['val_mean_absolute_error']\n",
    "plt.plot(epochs, acc, 'y', label='Training mean_absolute_error')\n",
    "plt.plot(epochs, val_acc, 'r', label='Validation mean_absolute_error')\n",
    "plt.title('Training and validation mean_absolute_error')\n",
    "plt.xlabel('Epochs')\n",
    "plt.ylabel('mean_absolute_error')\n",
    "plt.legend()\n",
    "plt.show()"
   ]
  },
  {
   "cell_type": "code",
   "execution_count": null,
   "metadata": {},
   "outputs": [],
   "source": [
    "submission = pd.DataFrame()\n",
    "submission['ID'] = test.ID"
   ]
  },
  {
   "cell_type": "code",
   "execution_count": 91,
   "metadata": {},
   "outputs": [
    {
     "data": {
      "text/html": [
       "<div>\n",
       "<style scoped>\n",
       "    .dataframe tbody tr th:only-of-type {\n",
       "        vertical-align: middle;\n",
       "    }\n",
       "\n",
       "    .dataframe tbody tr th {\n",
       "        vertical-align: top;\n",
       "    }\n",
       "\n",
       "    .dataframe thead th {\n",
       "        text-align: right;\n",
       "    }\n",
       "</style>\n",
       "<table border=\"1\" class=\"dataframe\">\n",
       "  <thead>\n",
       "    <tr style=\"text-align: right;\">\n",
       "      <th></th>\n",
       "      <th>ID</th>\n",
       "      <th>shop_id</th>\n",
       "      <th>item_id</th>\n",
       "      <th>month</th>\n",
       "      <th>item_name</th>\n",
       "      <th>item_category_id</th>\n",
       "      <th>item_category_name</th>\n",
       "      <th>shop_name</th>\n",
       "      <th>year</th>\n",
       "      <th>date_block_num</th>\n",
       "      <th>item_cnt_prev_month</th>\n",
       "      <th>item_mean_month</th>\n",
       "    </tr>\n",
       "  </thead>\n",
       "  <tbody>\n",
       "    <tr>\n",
       "      <td>0</td>\n",
       "      <td>0</td>\n",
       "      <td>5</td>\n",
       "      <td>5037</td>\n",
       "      <td>11</td>\n",
       "      <td>5037</td>\n",
       "      <td>19</td>\n",
       "      <td>19</td>\n",
       "      <td>5</td>\n",
       "      <td>2015</td>\n",
       "      <td>34</td>\n",
       "      <td>0.0</td>\n",
       "      <td>1.181818</td>\n",
       "    </tr>\n",
       "    <tr>\n",
       "      <td>1</td>\n",
       "      <td>1</td>\n",
       "      <td>5</td>\n",
       "      <td>5320</td>\n",
       "      <td>11</td>\n",
       "      <td>5320</td>\n",
       "      <td>55</td>\n",
       "      <td>55</td>\n",
       "      <td>5</td>\n",
       "      <td>2015</td>\n",
       "      <td>34</td>\n",
       "      <td>0.0</td>\n",
       "      <td>0.000000</td>\n",
       "    </tr>\n",
       "    <tr>\n",
       "      <td>2</td>\n",
       "      <td>2</td>\n",
       "      <td>5</td>\n",
       "      <td>5233</td>\n",
       "      <td>11</td>\n",
       "      <td>5233</td>\n",
       "      <td>19</td>\n",
       "      <td>19</td>\n",
       "      <td>5</td>\n",
       "      <td>2015</td>\n",
       "      <td>34</td>\n",
       "      <td>1.0</td>\n",
       "      <td>1.428571</td>\n",
       "    </tr>\n",
       "    <tr>\n",
       "      <td>3</td>\n",
       "      <td>3</td>\n",
       "      <td>5</td>\n",
       "      <td>5232</td>\n",
       "      <td>11</td>\n",
       "      <td>5232</td>\n",
       "      <td>23</td>\n",
       "      <td>23</td>\n",
       "      <td>5</td>\n",
       "      <td>2015</td>\n",
       "      <td>34</td>\n",
       "      <td>0.0</td>\n",
       "      <td>1.000000</td>\n",
       "    </tr>\n",
       "    <tr>\n",
       "      <td>4</td>\n",
       "      <td>4</td>\n",
       "      <td>5</td>\n",
       "      <td>5268</td>\n",
       "      <td>11</td>\n",
       "      <td>5268</td>\n",
       "      <td>20</td>\n",
       "      <td>20</td>\n",
       "      <td>5</td>\n",
       "      <td>2015</td>\n",
       "      <td>34</td>\n",
       "      <td>0.0</td>\n",
       "      <td>0.000000</td>\n",
       "    </tr>\n",
       "    <tr>\n",
       "      <td>...</td>\n",
       "      <td>...</td>\n",
       "      <td>...</td>\n",
       "      <td>...</td>\n",
       "      <td>...</td>\n",
       "      <td>...</td>\n",
       "      <td>...</td>\n",
       "      <td>...</td>\n",
       "      <td>...</td>\n",
       "      <td>...</td>\n",
       "      <td>...</td>\n",
       "      <td>...</td>\n",
       "      <td>...</td>\n",
       "    </tr>\n",
       "    <tr>\n",
       "      <td>214195</td>\n",
       "      <td>214195</td>\n",
       "      <td>45</td>\n",
       "      <td>18454</td>\n",
       "      <td>11</td>\n",
       "      <td>18454</td>\n",
       "      <td>55</td>\n",
       "      <td>55</td>\n",
       "      <td>45</td>\n",
       "      <td>2015</td>\n",
       "      <td>34</td>\n",
       "      <td>1.0</td>\n",
       "      <td>1.800000</td>\n",
       "    </tr>\n",
       "    <tr>\n",
       "      <td>214196</td>\n",
       "      <td>214196</td>\n",
       "      <td>45</td>\n",
       "      <td>16188</td>\n",
       "      <td>11</td>\n",
       "      <td>16188</td>\n",
       "      <td>64</td>\n",
       "      <td>64</td>\n",
       "      <td>45</td>\n",
       "      <td>2015</td>\n",
       "      <td>34</td>\n",
       "      <td>0.0</td>\n",
       "      <td>0.000000</td>\n",
       "    </tr>\n",
       "    <tr>\n",
       "      <td>214197</td>\n",
       "      <td>214197</td>\n",
       "      <td>45</td>\n",
       "      <td>15757</td>\n",
       "      <td>11</td>\n",
       "      <td>15757</td>\n",
       "      <td>55</td>\n",
       "      <td>55</td>\n",
       "      <td>45</td>\n",
       "      <td>2015</td>\n",
       "      <td>34</td>\n",
       "      <td>0.0</td>\n",
       "      <td>1.166667</td>\n",
       "    </tr>\n",
       "    <tr>\n",
       "      <td>214198</td>\n",
       "      <td>214198</td>\n",
       "      <td>45</td>\n",
       "      <td>19648</td>\n",
       "      <td>11</td>\n",
       "      <td>19648</td>\n",
       "      <td>40</td>\n",
       "      <td>40</td>\n",
       "      <td>45</td>\n",
       "      <td>2015</td>\n",
       "      <td>34</td>\n",
       "      <td>0.0</td>\n",
       "      <td>0.000000</td>\n",
       "    </tr>\n",
       "    <tr>\n",
       "      <td>214199</td>\n",
       "      <td>214199</td>\n",
       "      <td>45</td>\n",
       "      <td>969</td>\n",
       "      <td>11</td>\n",
       "      <td>969</td>\n",
       "      <td>37</td>\n",
       "      <td>37</td>\n",
       "      <td>45</td>\n",
       "      <td>2015</td>\n",
       "      <td>34</td>\n",
       "      <td>0.0</td>\n",
       "      <td>1.666667</td>\n",
       "    </tr>\n",
       "  </tbody>\n",
       "</table>\n",
       "<p>214200 rows × 12 columns</p>\n",
       "</div>"
      ],
      "text/plain": [
       "            ID  shop_id  item_id  month  item_name  item_category_id  \\\n",
       "0            0        5     5037     11       5037                19   \n",
       "1            1        5     5320     11       5320                55   \n",
       "2            2        5     5233     11       5233                19   \n",
       "3            3        5     5232     11       5232                23   \n",
       "4            4        5     5268     11       5268                20   \n",
       "...        ...      ...      ...    ...        ...               ...   \n",
       "214195  214195       45    18454     11      18454                55   \n",
       "214196  214196       45    16188     11      16188                64   \n",
       "214197  214197       45    15757     11      15757                55   \n",
       "214198  214198       45    19648     11      19648                40   \n",
       "214199  214199       45      969     11        969                37   \n",
       "\n",
       "        item_category_name  shop_name  year  date_block_num  \\\n",
       "0                       19          5  2015              34   \n",
       "1                       55          5  2015              34   \n",
       "2                       19          5  2015              34   \n",
       "3                       23          5  2015              34   \n",
       "4                       20          5  2015              34   \n",
       "...                    ...        ...   ...             ...   \n",
       "214195                  55         45  2015              34   \n",
       "214196                  64         45  2015              34   \n",
       "214197                  55         45  2015              34   \n",
       "214198                  40         45  2015              34   \n",
       "214199                  37         45  2015              34   \n",
       "\n",
       "        item_cnt_prev_month  item_mean_month  \n",
       "0                       0.0         1.181818  \n",
       "1                       0.0         0.000000  \n",
       "2                       1.0         1.428571  \n",
       "3                       0.0         1.000000  \n",
       "4                       0.0         0.000000  \n",
       "...                     ...              ...  \n",
       "214195                  1.0         1.800000  \n",
       "214196                  0.0         0.000000  \n",
       "214197                  0.0         1.166667  \n",
       "214198                  0.0         0.000000  \n",
       "214199                  0.0         1.666667  \n",
       "\n",
       "[214200 rows x 12 columns]"
      ]
     },
     "execution_count": 91,
     "metadata": {},
     "output_type": "execute_result"
    }
   ],
   "source": [
    "test"
   ]
  },
  {
   "cell_type": "code",
   "execution_count": 92,
   "metadata": {},
   "outputs": [],
   "source": [
    "sub = pd.DataFrame()\n",
    "sub['ID'] = test.ID\n",
    "test.drop(['ID'] , axis = 1 , inplace  = True)\n",
    "sub['item_cnt_month'] = model.predict(test)"
   ]
  },
  {
   "cell_type": "code",
   "execution_count": 93,
   "metadata": {},
   "outputs": [],
   "source": [
    "sub.to_csv('submissionnn.csv' , index = False)\n"
   ]
  },
  {
   "cell_type": "code",
   "execution_count": null,
   "metadata": {},
   "outputs": [],
   "source": []
  }
 ],
 "metadata": {
  "kernelspec": {
   "display_name": "Python 3",
   "language": "python",
   "name": "python3"
  },
  "language_info": {
   "codemirror_mode": {
    "name": "ipython",
    "version": 3
   },
   "file_extension": ".py",
   "mimetype": "text/x-python",
   "name": "python",
   "nbconvert_exporter": "python",
   "pygments_lexer": "ipython3",
   "version": "3.7.4"
  }
 },
 "nbformat": 4,
 "nbformat_minor": 2
}
